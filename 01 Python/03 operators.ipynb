{
 "cells": [
  {
   "cell_type": "markdown",
   "metadata": {},
   "source": [
    "# logical operator and its 3 types"
   ]
  },
  {
   "cell_type": "code",
   "execution_count": 1,
   "metadata": {},
   "outputs": [
    {
     "name": "stdout",
     "output_type": "stream",
     "text": [
      "False\n",
      "False\n",
      "True\n",
      "True\n",
      "False\n"
     ]
    }
   ],
   "source": [
    "a=13\n",
    "b=2\n",
    "c=10\n",
    "print(a<b and a>b)#false\n",
    "print(a>b and c>a)#false\n",
    "print((a/2)>(c/b))#true\n",
    "print(a<b or c>b)#true check for any one\n",
    "print(not((a/2)>(c/b)))\n"
   ]
  },
  {
   "cell_type": "markdown",
   "metadata": {},
   "source": [
    "# bitwise operator"
   ]
  },
  {
   "cell_type": "code",
   "execution_count": 2,
   "metadata": {},
   "outputs": [],
   "source": [
    "# apply only for int and bool not even in float"
   ]
  },
  {
   "cell_type": "code",
   "execution_count": 22,
   "metadata": {},
   "outputs": [
    {
     "name": "stdout",
     "output_type": "stream",
     "text": [
      "4\n",
      "5\n"
     ]
    }
   ],
   "source": [
    "num1=5\n",
    "num2=4\n",
    "print(num1 & num2)\n",
    "print(num1 | num2)"
   ]
  },
  {
   "cell_type": "code",
   "execution_count": 23,
   "metadata": {},
   "outputs": [
    {
     "name": "stdout",
     "output_type": "stream",
     "text": [
      "0.0\n",
      "1.1102230246251565e-16\n"
     ]
    }
   ],
   "source": [
    "#in python firstly numbers are converted into binary after that arithmetic operations are done\n",
    "print(1-4*0.25)\n",
    "print(0.9-3*0.3)#technically its answer also must be zero but it will not bcoz 0.3 decimal can not perfectlly be written in binary "
   ]
  },
  {
   "cell_type": "code",
   "execution_count": 30,
   "metadata": {},
   "outputs": [
    {
     "name": "stdout",
     "output_type": "stream",
     "text": [
      "10\n",
      "28\n",
      "38\n",
      "9\n"
     ]
    }
   ],
   "source": [
    "#left shift\n",
    "num=5 #its binary is be like 0101\n",
    "print(num<<1) #its value will be 1010 which is 10\n",
    "\n",
    "num=14\n",
    "print(num<<1)# we can notice one thing that left shifft makes number twice\n",
    "#right shift\n",
    "num=19\n",
    "print(num<<1)\n",
    "print(num>>1)"
   ]
  },
  {
   "cell_type": "code",
   "execution_count": null,
   "metadata": {},
   "outputs": [],
   "source": []
  },
  {
   "cell_type": "markdown",
   "metadata": {},
   "source": [
    "# arithmetic"
   ]
  },
  {
   "cell_type": "code",
   "execution_count": 9,
   "metadata": {},
   "outputs": [
    {
     "name": "stdout",
     "output_type": "stream",
     "text": [
      "sum of a and b is 14\n",
      "the value of a-b is -2\n",
      "the value of a/b is 0.75\n"
     ]
    }
   ],
   "source": [
    "a=int(input(\"enter number a: \"))\n",
    "b=int(input(\"enter number b: \"))\n",
    "print(\"sum of a and b is\",a+b)\n",
    "print(\"the value of a-b is\",a-b)\n",
    "print(\"the value of a/b is\", a/b)"
   ]
  },
  {
   "cell_type": "markdown",
   "metadata": {},
   "source": [
    "# Assignment operator"
   ]
  },
  {
   "cell_type": "code",
   "execution_count": 11,
   "metadata": {},
   "outputs": [
    {
     "name": "stdout",
     "output_type": "stream",
     "text": [
      "5.2\n",
      "7.6 7\n"
     ]
    }
   ],
   "source": [
    "a=10\n",
    "a+=21\n",
    "a-=5\n",
    "a/=5\n",
    "print (a)\n",
    "x=38\n",
    "z=5\n",
    "print(x/z,x//z)#see carefully"
   ]
  },
  {
   "cell_type": "markdown",
   "metadata": {},
   "source": [
    "# rep of infinitives"
   ]
  },
  {
   "cell_type": "code",
   "execution_count": 12,
   "metadata": {},
   "outputs": [],
   "source": [
    "#python is designed for numbers so its imp \n",
    "karan=float(\"dragon\")\n",
    "print(karan)#it will throw error but"
   ]
  },
  {
   "cell_type": "code",
   "execution_count": 17,
   "metadata": {},
   "outputs": [
    {
     "name": "stdout",
     "output_type": "stream",
     "text": [
      "inf\n",
      "-inf\n"
     ]
    }
   ],
   "source": [
    "pos_inf=float(\"inf\")#for positive inf\n",
    "print(pos_inf)\n",
    "pos_neg=float(\"-inf\")\n",
    "print(pos_neg)"
   ]
  },
  {
   "cell_type": "code",
   "execution_count": 18,
   "metadata": {},
   "outputs": [
    {
     "name": "stdout",
     "output_type": "stream",
     "text": [
      "nan\n"
     ]
    }
   ],
   "source": [
    "x=float(\"nan\")\n",
    "print(x)"
   ]
  },
  {
   "cell_type": "markdown",
   "metadata": {},
   "source": [
    "# comparision"
   ]
  },
  {
   "cell_type": "code",
   "execution_count": 20,
   "metadata": {},
   "outputs": [
    {
     "name": "stdout",
     "output_type": "stream",
     "text": [
      "False\n",
      "True\n",
      "inf\n",
      "-inf\n",
      "check False\n",
      "check False\n",
      "check False\n",
      "check True\n"
     ]
    }
   ],
   "source": [
    "b=(4>7)\n",
    "print(b)\n",
    "a=(14>7)\n",
    "print(a)\n",
    "#comparing something special\n",
    "\n",
    "l=float(\"nan\")\n",
    "m=5\n",
    "z=float(\"nan\")\n",
    "pos_inf1=float(\"inf\")#for positive inf\n",
    "print(pos_inf1)\n",
    "neg_infi1=float(\"-inf\")\n",
    "print(neg_infi1)\n",
    "print(\"check\",l==m)\n",
    "print(\"check\",l==z)#the thing we notice is nan is not even equal to itself\n",
    "print(\"check\",l==l)\n",
    "print(\"check\",pos_inf1>neg_infi1)"
   ]
  },
  {
   "cell_type": "markdown",
   "metadata": {},
   "source": [
    "# bools opartor"
   ]
  },
  {
   "cell_type": "code",
   "execution_count": 21,
   "metadata": {},
   "outputs": [
    {
     "name": "stdout",
     "output_type": "stream",
     "text": [
      "the value of bool1 and bool2 is False\n",
      "the value of bool1 or bool2 is True\n",
      "the value of not bool2 is True\n",
      "the value of not bool1  is False\n",
      "True\n"
     ]
    }
   ],
   "source": [
    "#bool operators\n",
    "bool1=True\n",
    "bool2=False\n",
    "print(\"the value of bool1 and bool2 is\",(bool1 and bool2))\n",
    "print(\"the value of bool1 or bool2 is\",(bool1 or bool2))\n",
    "print(\"the value of not bool2 is\",not bool2)\n",
    "print(\"the value of not bool1  is\",not bool1)\n",
    "print(not 5>7)"
   ]
  },
  {
   "cell_type": "markdown",
   "metadata": {},
   "source": [
    "# identity operator"
   ]
  },
  {
   "cell_type": "code",
   "execution_count": 31,
   "metadata": {},
   "outputs": [
    {
     "name": "stdout",
     "output_type": "stream",
     "text": [
      "True\n"
     ]
    }
   ],
   "source": [
    "x=5\n",
    "y=5\n",
    "print(x is y)#its shows true\n"
   ]
  },
  {
   "cell_type": "code",
   "execution_count": 33,
   "metadata": {},
   "outputs": [
    {
     "name": "stdout",
     "output_type": "stream",
     "text": [
      "False\n",
      "True\n"
     ]
    }
   ],
   "source": [
    "arr1=[1,2,3,4]\n",
    "arr2=[1,2,3,4]\n",
    "print(arr1 is arr2)#it shows false\n",
    "print(arr1 is not arr2)"
   ]
  },
  {
   "cell_type": "code",
   "execution_count": null,
   "metadata": {},
   "outputs": [],
   "source": []
  },
  {
   "cell_type": "markdown",
   "metadata": {},
   "source": [
    "# membershop"
   ]
  },
  {
   "cell_type": "code",
   "execution_count": 36,
   "metadata": {},
   "outputs": [
    {
     "name": "stdout",
     "output_type": "stream",
     "text": [
      "True\n",
      "True\n"
     ]
    }
   ],
   "source": [
    "my_list=[1,2,3,4,5]\n",
    "print(5 in my_list)\n",
    "print(7 not in my_list)"
   ]
  },
  {
   "cell_type": "code",
   "execution_count": null,
   "metadata": {},
   "outputs": [],
   "source": []
  }
 ],
 "metadata": {
  "kernelspec": {
   "display_name": "Python 3",
   "language": "python",
   "name": "python3"
  },
  "language_info": {
   "codemirror_mode": {
    "name": "ipython",
    "version": 3
   },
   "file_extension": ".py",
   "mimetype": "text/x-python",
   "name": "python",
   "nbconvert_exporter": "python",
   "pygments_lexer": "ipython3",
   "version": "3.11.7"
  }
 },
 "nbformat": 4,
 "nbformat_minor": 2
}
