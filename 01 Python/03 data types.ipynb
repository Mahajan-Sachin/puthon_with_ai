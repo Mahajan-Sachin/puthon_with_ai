{
 "cells": [
  {
   "cell_type": "markdown",
   "metadata": {},
   "source": [
    "# exponent"
   ]
  },
  {
   "cell_type": "code",
   "execution_count": 1,
   "metadata": {},
   "outputs": [
    {
     "name": "stdout",
     "output_type": "stream",
     "text": [
      "3000000.0\n"
     ]
    }
   ],
   "source": [
    "num=3e6 #this means 3X10^(6)\n",
    "print(num)"
   ]
  },
  {
   "cell_type": "markdown",
   "metadata": {},
   "source": [
    "# complex"
   ]
  },
  {
   "cell_type": "code",
   "execution_count": 2,
   "metadata": {},
   "outputs": [
    {
     "name": "stdout",
     "output_type": "stream",
     "text": [
      "(3+5j)\n"
     ]
    }
   ],
   "source": [
    "x=3+5j #here iota(i) is rep by j\n",
    "print(x)"
   ]
  },
  {
   "cell_type": "code",
   "execution_count": 3,
   "metadata": {},
   "outputs": [
    {
     "name": "stdout",
     "output_type": "stream",
     "text": [
      "<class 'complex'>\n"
     ]
    }
   ],
   "source": [
    "print(type(x))"
   ]
  },
  {
   "cell_type": "markdown",
   "metadata": {},
   "source": [
    "# some mathematics data_types"
   ]
  },
  {
   "cell_type": "code",
   "execution_count": 4,
   "metadata": {},
   "outputs": [
    {
     "name": "stdout",
     "output_type": "stream",
     "text": [
      "6\n"
     ]
    }
   ],
   "source": [
    "print(abs(-6))"
   ]
  },
  {
   "cell_type": "code",
   "execution_count": 5,
   "metadata": {},
   "outputs": [
    {
     "name": "stdout",
     "output_type": "stream",
     "text": [
      "8\n",
      "8\n"
     ]
    }
   ],
   "source": [
    "print(2**3)\n",
    "print(pow(2,3))"
   ]
  },
  {
   "cell_type": "code",
   "execution_count": 7,
   "metadata": {},
   "outputs": [
    {
     "name": "stdout",
     "output_type": "stream",
     "text": [
      "-3\n"
     ]
    }
   ],
   "source": [
    "nums=[1,2,-3,4,5,6,7]\n",
    "print(min(nums))"
   ]
  },
  {
   "cell_type": "code",
   "execution_count": 8,
   "metadata": {},
   "outputs": [
    {
     "name": "stdout",
     "output_type": "stream",
     "text": [
      "7\n"
     ]
    }
   ],
   "source": [
    "print(round(6.8))"
   ]
  },
  {
   "cell_type": "code",
   "execution_count": 9,
   "metadata": {},
   "outputs": [
    {
     "name": "stdout",
     "output_type": "stream",
     "text": [
      "karan oberoy\n",
      "12\n"
     ]
    }
   ],
   "source": [
    "first_name=\"karan\"\n",
    "last_name=\"oberoy\"\n",
    "complete_name=first_name+\" \"+last_name\n",
    "print(complete_name)\n",
    "print(len(complete_name))\n"
   ]
  },
  {
   "cell_type": "markdown",
   "metadata": {},
   "source": [
    "# lists"
   ]
  },
  {
   "cell_type": "code",
   "execution_count": 10,
   "metadata": {},
   "outputs": [
    {
     "name": "stdout",
     "output_type": "stream",
     "text": [
      "['karan', 'dragon', 'icecream']\n",
      "<class 'list'>\n"
     ]
    }
   ],
   "source": [
    "#lists are mutable\n",
    "x=[\"karan\",\"dragon\",\"icecream\"]\n",
    "print(x)\n",
    "print(type(x))"
   ]
  },
  {
   "cell_type": "code",
   "execution_count": 12,
   "metadata": {},
   "outputs": [
    {
     "name": "stdout",
     "output_type": "stream",
     "text": [
      "['karan', 'dragon', 'icecream']\n"
     ]
    }
   ],
   "source": [
    "y=list(x)\n",
    "print(y)"
   ]
  },
  {
   "cell_type": "code",
   "execution_count": 13,
   "metadata": {},
   "outputs": [
    {
     "name": "stdout",
     "output_type": "stream",
     "text": [
      "['k', 'a', 'r', 'a', 'n']\n"
     ]
    }
   ],
   "source": [
    "z=list(\"karan\")\n",
    "print(z)"
   ]
  },
  {
   "cell_type": "code",
   "execution_count": 14,
   "metadata": {},
   "outputs": [
    {
     "name": "stdout",
     "output_type": "stream",
     "text": [
      "[1, 2, 3, 4, 555, 8, 'frag', 777]\n"
     ]
    }
   ],
   "source": [
    "#to add something in last of list\n",
    "arr=[1,2,3,4,555,8,\"frag\"]\n",
    "arr.append(777)\n",
    "print(arr)"
   ]
  },
  {
   "cell_type": "code",
   "execution_count": 15,
   "metadata": {},
   "outputs": [
    {
     "name": "stdout",
     "output_type": "stream",
     "text": [
      "[1, 2, 3, 43, 4, 555, 8, 'frag', 777]\n"
     ]
    }
   ],
   "source": [
    "arr.insert(3,43)\n",
    "print(arr)"
   ]
  },
  {
   "cell_type": "code",
   "execution_count": 16,
   "metadata": {},
   "outputs": [
    {
     "name": "stdout",
     "output_type": "stream",
     "text": [
      "[1, 2, 'karam', 'dragon']\n"
     ]
    }
   ],
   "source": [
    "l1=[1,2]\n",
    "l2=[\"karam\",\"dragon\"]\n",
    "l1.extend(l2)\n",
    "print(l1)\n"
   ]
  },
  {
   "cell_type": "code",
   "execution_count": 17,
   "metadata": {},
   "outputs": [
    {
     "name": "stdout",
     "output_type": "stream",
     "text": [
      "[1, 'dragon', 2, 2, 3, 7, 1]\n"
     ]
    }
   ],
   "source": [
    "arr=[1, 2, 'karam', 'dragon',2,2,3,7,1]\n",
    "arr.remove(\"karam\")\n",
    "arr.remove(2)#remove just removes the first occurenc\n",
    "print(arr)"
   ]
  },
  {
   "cell_type": "code",
   "execution_count": 21,
   "metadata": {},
   "outputs": [
    {
     "name": "stdout",
     "output_type": "stream",
     "text": [
      "[1, 2, 'karam', 'dragon', 2, 2, 3, 7]\n",
      "1\n",
      "[1, 2, 'dragon', 2, 2, 3, 7]\n",
      "karam\n"
     ]
    }
   ],
   "source": [
    "arr1=[1, 2, 'karam', 'dragon',2,2,3,7,1]\n",
    "b=arr1.pop()#it removes the last element\n",
    "print(arr1)\n",
    "print(b) #it will print the removed one\n",
    "# you can remove elements by index also\n",
    "c=arr1.pop(2)#at index 2 \"karam\" is there\n",
    "print(arr1)\n",
    "print(c)"
   ]
  },
  {
   "cell_type": "markdown",
   "metadata": {},
   "source": [
    "# strings"
   ]
  },
  {
   "cell_type": "code",
   "execution_count": 3,
   "metadata": {},
   "outputs": [
    {
     "name": "stdout",
     "output_type": "stream",
     "text": [
      "agon is a mystical\n",
      "KARAN\n",
      "karan\n",
      "Dragon is a mystical\n",
      "dragon is a mystical\n"
     ]
    }
   ],
   "source": [
    "a=\"dragon is a mystical\"\n",
    "b=\"karan\"\n",
    "print(a[2:])\n",
    "print(b.upper())\n",
    "print(b.lower())\n",
    "print(a.capitalize())\n",
    "print(a)#this shows that all these above mention methods create a new type of string\n",
    "\n"
   ]
  },
  {
   "cell_type": "code",
   "execution_count": 9,
   "metadata": {},
   "outputs": [
    {
     "name": "stdout",
     "output_type": "stream",
     "text": [
      "hello dear,we are very good, we are very nice,we are wow\n",
      "hello dear,we are very good, I am very nice,I am wow\n"
     ]
    }
   ],
   "source": [
    "str=\"hello dear,I am very good, I am very nice,I am wow\"\n",
    "print(str.replace(\"I am\",\"we are\"))#it will replace every string\n",
    "print(str.replace(\"I am\",\"we are\",1))#it will change only one time"
   ]
  },
  {
   "cell_type": "markdown",
   "metadata": {},
   "source": [
    "# escap char"
   ]
  },
  {
   "cell_type": "code",
   "execution_count": 10,
   "metadata": {},
   "outputs": [
    {
     "name": "stdout",
     "output_type": "stream",
     "text": [
      "hello \n",
      " karan\n"
     ]
    }
   ],
   "source": [
    "print(\"hello \\n karan\")"
   ]
  },
  {
   "cell_type": "code",
   "execution_count": 11,
   "metadata": {},
   "outputs": [
    {
     "name": "stdout",
     "output_type": "stream",
     "text": [
      "hello\tdragon\n"
     ]
    }
   ],
   "source": [
    "print(\"hello\\tdragon\")"
   ]
  },
  {
   "cell_type": "code",
   "execution_count": 17,
   "metadata": {},
   "outputs": [
    {
     "name": "stdout",
     "output_type": "stream",
     "text": [
      "hello \"karan\"\n",
      "hello \"dragon\"\n"
     ]
    }
   ],
   "source": [
    "print(\"hello \\\"karan\\\"\")\n",
    "print('hello \"dragon\"')"
   ]
  },
  {
   "cell_type": "code",
   "execution_count": null,
   "metadata": {},
   "outputs": [],
   "source": []
  }
 ],
 "metadata": {
  "kernelspec": {
   "display_name": "Python 3",
   "language": "python",
   "name": "python3"
  },
  "language_info": {
   "codemirror_mode": {
    "name": "ipython",
    "version": 3
   },
   "file_extension": ".py",
   "mimetype": "text/x-python",
   "name": "python",
   "nbconvert_exporter": "python",
   "pygments_lexer": "ipython3",
   "version": "3.11.7"
  }
 },
 "nbformat": 4,
 "nbformat_minor": 2
}
