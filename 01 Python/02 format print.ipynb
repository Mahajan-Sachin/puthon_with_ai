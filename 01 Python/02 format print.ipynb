{
 "cells": [
  {
   "cell_type": "markdown",
   "metadata": {},
   "source": [
    "# format"
   ]
  },
  {
   "cell_type": "code",
   "execution_count": 2,
   "metadata": {},
   "outputs": [
    {
     "name": "stdout",
     "output_type": "stream",
     "text": [
      "helloAdam,your balance is230.2346\n",
      "hello Adam,your balance is   230.235.\n",
      "helloworld this is Python\n"
     ]
    }
   ],
   "source": [
    "#default arguments\n",
    "print(\"hello{},your balance is{}\".format(\"Adam\",230.2346))\n",
    "#keyword arguments\n",
    "print(\"hello {name},your balance is {bic:9.3f}.\".format(name=\"Adam\",bic=230.2346))\n",
    "\n",
    "\n",
    "name=\"world\"\n",
    "program=\"Python\"\n",
    "print(f'hello{name} this is {program}')"
   ]
  },
  {
   "cell_type": "code",
   "execution_count": 2,
   "metadata": {},
   "outputs": [
    {
     "name": "stdout",
     "output_type": "stream",
     "text": [
      "10 20.7 hello world\n",
      "10 20.700000 hello world\n",
      "this is a string having length{} 50\n"
     ]
    }
   ],
   "source": [
    "a=10\n",
    "b=20.7\n",
    "c=\"hello\"\n",
    "d=\"world\"\n",
    "print(\"{} {} {} {}\".format(a,b,c,d))\n",
    "print(\"%d %f %s %s\"%(a,b,c,d))\n",
    "z=50\n",
    "txt=\"this is a string having length{}\"\n",
    "print(txt,format(z))\n"
   ]
  },
  {
   "cell_type": "code",
   "execution_count": 2,
   "metadata": {},
   "outputs": [
    {
     "name": "stdout",
     "output_type": "stream",
     "text": [
      "112.00000000\n"
     ]
    }
   ],
   "source": [
    "a=112\n",
    "print(\"{0:.8f}\".format(float(a)))"
   ]
  },
  {
   "cell_type": "code",
   "execution_count": 3,
   "metadata": {},
   "outputs": [
    {
     "name": "stdout",
     "output_type": "stream",
     "text": [
      "45 33 77\n"
     ]
    }
   ],
   "source": [
    "a=45\n",
    "b=33\n",
    "c=77\n",
    "print(a,b,c)#so by default there is space between characters in python  "
   ]
  },
  {
   "cell_type": "markdown",
   "metadata": {},
   "source": [
    "# seprate fn"
   ]
  },
  {
   "cell_type": "code",
   "execution_count": 1,
   "metadata": {},
   "outputs": [
    {
     "name": "stdout",
     "output_type": "stream",
     "text": [
      "45,33,46\n"
     ]
    }
   ],
   "source": [
    "a=45\n",
    "b=33\n",
    "c=46\n",
    "print(a,b,c,sep=',')"
   ]
  },
  {
   "cell_type": "code",
   "execution_count": 2,
   "metadata": {},
   "outputs": [
    {
     "name": "stdout",
     "output_type": "stream",
     "text": [
      "45%33%46\n"
     ]
    }
   ],
   "source": [
    "a=45\n",
    "b=33\n",
    "c=46\n",
    "print(a,b,c,sep='%')"
   ]
  },
  {
   "cell_type": "markdown",
   "metadata": {},
   "source": [
    "# end"
   ]
  },
  {
   "cell_type": "code",
   "execution_count": 4,
   "metadata": {},
   "outputs": [
    {
     "name": "stdout",
     "output_type": "stream",
     "text": [
      "hello world,!\n"
     ]
    }
   ],
   "source": [
    "print(\"hello\",end=' ')\n",
    "print(\"world\",end=',')\n",
    "print('!')\n",
    "#end fn doesnot allow to make a new line "
   ]
  },
  {
   "cell_type": "code",
   "execution_count": null,
   "metadata": {},
   "outputs": [],
   "source": []
  }
 ],
 "metadata": {
  "kernelspec": {
   "display_name": "Python 3",
   "language": "python",
   "name": "python3"
  },
  "language_info": {
   "codemirror_mode": {
    "name": "ipython",
    "version": 3
   },
   "file_extension": ".py",
   "mimetype": "text/x-python",
   "name": "python",
   "nbconvert_exporter": "python",
   "pygments_lexer": "ipython3",
   "version": "3.11.7"
  }
 },
 "nbformat": 4,
 "nbformat_minor": 2
}
