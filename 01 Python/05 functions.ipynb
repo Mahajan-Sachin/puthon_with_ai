{
 "cells": [
  {
   "cell_type": "code",
   "execution_count": null,
   "metadata": {},
   "outputs": [],
   "source": [
    "#not talking about basic  main point is functions can be done as pass by reference and pass by value"
   ]
  },
  {
   "cell_type": "markdown",
   "metadata": {},
   "source": [
    "# pass by value"
   ]
  },
  {
   "cell_type": "code",
   "execution_count": 1,
   "metadata": {},
   "outputs": [],
   "source": [
    "#if we use imuttable datatype than function takes the copy and doesnot change the original value\n",
    "#examples of immutable are number,strings,tuple--pass by value"
   ]
  },
  {
   "cell_type": "code",
   "execution_count": 5,
   "metadata": {},
   "outputs": [
    {
     "name": "stdout",
     "output_type": "stream",
     "text": [
      "before calling function real x: 5\n",
      "during calling function x= 10\n",
      "checking value of x after calling the function: 5\n"
     ]
    }
   ],
   "source": [
    "x=5\n",
    "\n",
    "def modify(x):\n",
    "    x=x+5\n",
    "    print(\"during calling function x=\",x)\n",
    "\n",
    "print(\"before calling function real x:\",x)\n",
    "\n",
    "modify(x)\n",
    "print(\"checking value of x after calling the function:\",x)\n",
    "#so we can see it doesnot affect the real values inside the function"
   ]
  },
  {
   "cell_type": "markdown",
   "metadata": {},
   "source": [
    "# pass by reference"
   ]
  },
  {
   "cell_type": "code",
   "execution_count": 6,
   "metadata": {},
   "outputs": [],
   "source": [
    "#it will change the original value happens with mutable data type"
   ]
  },
  {
   "cell_type": "code",
   "execution_count": 7,
   "metadata": {},
   "outputs": [
    {
     "name": "stdout",
     "output_type": "stream",
     "text": [
      "before calling function 5\n",
      "during calling function [1, 2, 3, 4, 5, 88]\n",
      "checking value of list after calling the function [1, 2, 3, 4, 5, 88]\n"
     ]
    }
   ],
   "source": [
    "my_list=[1,2,3,4,5]\n",
    "def modify_list(x):\n",
    "    x.append(88)\n",
    "    print(\"during calling function\",x)\n",
    "print(\"before calling function\",x)\n",
    "modify_list(my_list)\n",
    "print(\"checking value of list after calling the function\",my_list)"
   ]
  },
  {
   "cell_type": "markdown",
   "metadata": {},
   "source": [
    "# lambda function"
   ]
  },
  {
   "cell_type": "code",
   "execution_count": 11,
   "metadata": {},
   "outputs": [
    {
     "name": "stdout",
     "output_type": "stream",
     "text": [
      "5\n"
     ]
    }
   ],
   "source": [
    "add=lambda x,y: x+y\n",
    "print(add(3,2))"
   ]
  },
  {
   "cell_type": "code",
   "execution_count": 12,
   "metadata": {},
   "outputs": [
    {
     "name": "stdout",
     "output_type": "stream",
     "text": [
      "good morning karan\n"
     ]
    }
   ],
   "source": [
    "def gretting():\n",
    "    return lambda name:print(\"good morning\",name)\n",
    "gretting()(\"karan\")"
   ]
  },
  {
   "cell_type": "code",
   "execution_count": 13,
   "metadata": {},
   "outputs": [
    {
     "name": "stdout",
     "output_type": "stream",
     "text": [
      "5\n"
     ]
    }
   ],
   "source": [
    " "
   ]
  },
  {
   "cell_type": "code",
   "execution_count": null,
   "metadata": {},
   "outputs": [],
   "source": []
  }
 ],
 "metadata": {
  "kernelspec": {
   "display_name": "Python 3",
   "language": "python",
   "name": "python3"
  },
  "language_info": {
   "codemirror_mode": {
    "name": "ipython",
    "version": 3
   },
   "file_extension": ".py",
   "mimetype": "text/x-python",
   "name": "python",
   "nbconvert_exporter": "python",
   "pygments_lexer": "ipython3",
   "version": "3.11.7"
  }
 },
 "nbformat": 4,
 "nbformat_minor": 2
}
