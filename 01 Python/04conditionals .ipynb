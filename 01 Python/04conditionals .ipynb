{
 "cells": [
  {
   "cell_type": "code",
   "execution_count": 1,
   "metadata": {},
   "outputs": [
    {
     "name": "stdout",
     "output_type": "stream",
     "text": [
      "the value of is smaller than 3\n",
      "done\n"
     ]
    }
   ],
   "source": [
    "a=2#(\"atleast tap backspace 4 times before print means always leave space use diff value of a to understand more\")\n",
    "#this is a ladder  means every situation is connected means it prints only one line acc to situation\n",
    "if(a<3):\n",
    "    print(\"the value of a is smaller than 3\")\n",
    "elif(a>13):\n",
    "    print(\"the value of a is greater than 13\")\n",
    "elif(a>7):\n",
    "    print(\"the value of a is greater then 7\")\n",
    "elif(a>17):\n",
    "    print(\"the value of a is greater then 17\")\n",
    "else:\n",
    "    print(\"the value is not greater then 3 or 7\")\n",
    "print(\"done\")\n",
    " "
   ]
  },
  {
   "cell_type": "markdown",
   "metadata": {},
   "source": [
    "# truly"
   ]
  },
  {
   "cell_type": "code",
   "execution_count": 2,
   "metadata": {},
   "outputs": [
    {
     "name": "stdout",
     "output_type": "stream",
     "text": [
      "it is true\n"
     ]
    }
   ],
   "source": [
    "#any non empty or non zero seq  data type itself is a truly value means\n",
    "if 15:\n",
    "    print(\"it is true\")\n",
    "else:\n",
    "    print(\"not true\")"
   ]
  },
  {
   "cell_type": "code",
   "execution_count": 3,
   "metadata": {},
   "outputs": [
    {
     "name": "stdout",
     "output_type": "stream",
     "text": [
      "true\n"
     ]
    }
   ],
   "source": [
    "if [33]:\n",
    "    print(\"true\")\n",
    "else:\n",
    "    print(\"not true\")"
   ]
  },
  {
   "cell_type": "markdown",
   "metadata": {},
   "source": [
    "# falsy"
   ]
  },
  {
   "cell_type": "code",
   "execution_count": 4,
   "metadata": {},
   "outputs": [
    {
     "name": "stdout",
     "output_type": "stream",
     "text": [
      "not true\n"
     ]
    }
   ],
   "source": [
    "if 0:\n",
    "    print(\"true\")\n",
    "else:\n",
    "    print(\"not true\")"
   ]
  },
  {
   "cell_type": "code",
   "execution_count": 5,
   "metadata": {},
   "outputs": [
    {
     "name": "stdout",
     "output_type": "stream",
     "text": [
      "not true\n"
     ]
    }
   ],
   "source": [
    "if \"\":\n",
    "    print(\"true\")\n",
    "else:\n",
    "    print(\"not true\")"
   ]
  },
  {
   "cell_type": "markdown",
   "metadata": {},
   "source": [
    "# nesting"
   ]
  },
  {
   "cell_type": "code",
   "execution_count": 7,
   "metadata": {},
   "outputs": [
    {
     "name": "stdout",
     "output_type": "stream",
     "text": [
      "no is smaller than 10\n",
      "no is even also\n"
     ]
    }
   ],
   "source": [
    "a=int(input(\"enter x: \"))\n",
    "if a>10:\n",
    "    print(\"no is greater than 10\")\n",
    "    if a%2==0:\n",
    "        print(\"no is even also\")\n",
    "    else:\n",
    "        print(\"no is odd\")\n",
    "else:\n",
    "    print(\"no is smaller than 10\")\n",
    "    if a%2==0:\n",
    "        print(\"no is even also\")\n",
    "    else:\n",
    "        print(\"no is odd\")"
   ]
  },
  {
   "cell_type": "markdown",
   "metadata": {},
   "source": [
    "# terniary"
   ]
  },
  {
   "cell_type": "code",
   "execution_count": null,
   "metadata": {},
   "outputs": [],
   "source": [
    "num=5\n",
    "result=\"positive\" if num>=0 else \"negative\""
   ]
  },
  {
   "cell_type": "markdown",
   "metadata": {},
   "source": [
    "# match or switch"
   ]
  },
  {
   "cell_type": "code",
   "execution_count": 8,
   "metadata": {},
   "outputs": [],
   "source": [
    "#in python world switch is not available instead we have match"
   ]
  },
  {
   "cell_type": "code",
   "execution_count": 11,
   "metadata": {},
   "outputs": [
    {
     "name": "stdout",
     "output_type": "stream",
     "text": [
      "invalid\n"
     ]
    }
   ],
   "source": [
    "day_num=int(input(\"enter day no: \"))\n",
    "match day_num:\n",
    "    case 1:\n",
    "        print(\"monday\")\n",
    "    case 2:\n",
    "        print(\"tuesday\")\n",
    "    case 3:\n",
    "        print(\"wednesday\")\n",
    "    case 4:\n",
    "        print(\"thrusday\")\n",
    "    case 5:\n",
    "        print(\"friday\")\n",
    "    case 6:\n",
    "        print(\"saturday\")\n",
    "    case 7:\n",
    "        print(\"sunday\")\n",
    "    case _:\n",
    "        print(\"invalid\")"
   ]
  },
  {
   "cell_type": "code",
   "execution_count": null,
   "metadata": {},
   "outputs": [],
   "source": []
  }
 ],
 "metadata": {
  "kernelspec": {
   "display_name": "Python 3",
   "language": "python",
   "name": "python3"
  },
  "language_info": {
   "codemirror_mode": {
    "name": "ipython",
    "version": 3
   },
   "file_extension": ".py",
   "mimetype": "text/x-python",
   "name": "python",
   "nbconvert_exporter": "python",
   "pygments_lexer": "ipython3",
   "version": "3.11.7"
  }
 },
 "nbformat": 4,
 "nbformat_minor": 2
}
